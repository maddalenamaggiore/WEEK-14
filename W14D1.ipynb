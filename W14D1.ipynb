{
 "cells": [
  {
   "cell_type": "code",
   "execution_count": 13,
   "id": "fa247fc9-4d81-456d-b666-ccb318214bdf",
   "metadata": {
    "tags": []
   },
   "outputs": [
    {
     "name": "stdout",
     "output_type": "stream",
     "text": [
      "Epicode\n",
      "E\n",
      "p\n",
      "i\n",
      "c\n",
      "o\n",
      "d\n",
      "e\n"
     ]
    }
   ],
   "source": [
    "nome_scuola = \"Epicode\"; print (nome_scuola)\n",
    "lunghezza = len(nome_scuola)\n",
    "lettera = 0\n",
    "while lettera < lunghezza:\n",
    "    print(nome_scuola[lettera])\n",
    "    lettera += 1"
   ]
  },
  {
   "cell_type": "code",
   "execution_count": 18,
   "id": "5909c3f6-e6c4-44b1-b78f-4d716f4162c5",
   "metadata": {
    "tags": []
   },
   "outputs": [
    {
     "name": "stdout",
     "output_type": "stream",
     "text": [
      "0\n",
      "1\n",
      "2\n",
      "3\n",
      "4\n",
      "5\n",
      "6\n",
      "7\n",
      "8\n",
      "9\n",
      "10\n",
      "11\n",
      "12\n",
      "13\n",
      "14\n",
      "15\n",
      "16\n",
      "17\n",
      "18\n",
      "19\n",
      "20\n"
     ]
    }
   ],
   "source": [
    "numero = 0\n",
    "while numero <= 20:  \n",
    "    print(numero)\n",
    "    numero += 1 "
   ]
  },
  {
   "cell_type": "code",
   "execution_count": 21,
   "id": "8862f94f-9307-40f6-8402-7931c54ea99e",
   "metadata": {
    "tags": []
   },
   "outputs": [
    {
     "name": "stdout",
     "output_type": "stream",
     "text": [
      "2^0 = 1\n",
      "2^1 = 2\n",
      "2^2 = 4\n",
      "2^3 = 8\n",
      "2^4 = 16\n",
      "2^5 = 32\n",
      "2^6 = 64\n",
      "2^7 = 128\n",
      "2^8 = 256\n",
      "2^9 = 512\n"
     ]
    }
   ],
   "source": [
    "numero = 0\n",
    "potenza = 0 \n",
    "\n",
    "while potenza < 10: \n",
    "    risultato = 2 ** numero\n",
    "    print(f\"2^{numero} = {risultato}\")\n",
    "    numero += 1  \n",
    "    potenza += 1  "
   ]
  },
  {
   "cell_type": "code",
   "execution_count": 23,
   "id": "0f3edfd3-41ce-4bcd-b981-221746fb8bb2",
   "metadata": {
    "tags": []
   },
   "outputs": [
    {
     "name": "stdin",
     "output_type": "stream",
     "text": [
      "Inserisci il numero di potenze di 2 da stampare:  4\n"
     ]
    },
    {
     "name": "stdout",
     "output_type": "stream",
     "text": [
      "2^0 = 1\n",
      "2^1 = 2\n",
      "2^2 = 4\n",
      "2^3 = 8\n"
     ]
    }
   ],
   "source": [
    "N = int(input(\"Inserisci il numero di potenze di 2 da stampare: \"))\n",
    "potenza = 0\n",
    "\n",
    "while N > 0:\n",
    "    risultato = 2 ** potenza\n",
    "    print(f\"2^{potenza} = {risultato}\")\n",
    "    potenza += 1\n",
    "    N -= 1"
   ]
  },
  {
   "cell_type": "code",
   "execution_count": 26,
   "id": "6aeb3b35-d305-4dc3-a16a-d66ab3b7d1c1",
   "metadata": {
    "tags": []
   },
   "outputs": [
    {
     "name": "stdout",
     "output_type": "stream",
     "text": [
      "2^0 = 1\n",
      "2^1 = 2\n",
      "2^2 = 4\n",
      "2^3 = 8\n",
      "2^4 = 16\n",
      "2^5 = 32\n",
      "2^6 = 64\n",
      "2^7 = 128\n",
      "2^8 = 256\n",
      "2^9 = 512\n",
      "2^10 = 1024\n",
      "2^11 = 2048\n",
      "2^12 = 4096\n",
      "2^13 = 8192\n",
      "2^14 = 16384\n"
     ]
    }
   ],
   "source": [
    "potenza = 0\n",
    "\n",
    "while 2 ** potenza < 25000:\n",
    "    risultato = 2 ** potenza\n",
    "    print(f\"2^{potenza} = {risultato}\")\n",
    "    potenza += 1"
   ]
  },
  {
   "cell_type": "code",
   "execution_count": 30,
   "id": "27af80db-99dc-474c-8a00-e79809a8dc6a",
   "metadata": {
    "tags": []
   },
   "outputs": [
    {
     "name": "stdout",
     "output_type": "stream",
     "text": [
      "Le liste non hanno la stessa lunghezza.\n"
     ]
    }
   ],
   "source": [
    "studenti = [\"Alex\", \"Bob\", \"Cindy\", \"Dan\", \"Emma\", \"Faith\", \"Grace\", \"Henry\"]\n",
    "corsi = [\"Cybersecurity\", \"Data Analyst\", \"Backend\", \"Frontend\", \"Data Analyst\", \"Backend\"]\n",
    "\n",
    "for alunno in studenti:\n",
    "    if alunno not in corsi:\n",
    "        if alunno == \"Emma\":\n",
    "            corsi.append(\"Data Analyst\")\n",
    "        elif alunno == \"Faith\":\n",
    "            corsi.append(\"Backend\")\n",
    "        elif alunno == \"Grace\":\n",
    "            corsi.append(\"Frontend\")\n",
    "        elif alunno == \"Henry\":\n",
    "            corsi.append(\"Cybersecurity\")\n",
    "\n",
    "if len(studenti) == len(corsi):\n",
    "    print(\"Le liste hanno la stessa lunghezza. Ecco la lista corsi:\")\n",
    "    print(corsi)\n",
    "else:\n",
    "    print(\"Le liste non hanno la stessa lunghezza.\")"
   ]
  },
  {
   "cell_type": "code",
   "execution_count": 34,
   "id": "3209bc9e-4a78-46a9-ac21-5ac40ebe629d",
   "metadata": {
    "tags": []
   },
   "outputs": [
    {
     "name": "stdin",
     "output_type": "stream",
     "text": [
      "Inserisci una stringa:  ciao\n"
     ]
    },
    {
     "name": "stdout",
     "output_type": "stream",
     "text": [
      "cia...o\n"
     ]
    }
   ],
   "source": [
    "stringa = input(\"Inserisci una stringa: \")\n",
    "lunghezza_stringa = len(stringa)\n",
    "if lunghezza_stringa <= 3:\n",
    "    print(stringa)\n",
    "elif 3 < lunghezza_stringa < 6:\n",
    "    print(stringa[:3] + \"...\" + stringa[3:])\n",
    "else:\n",
    "    print(stringa[:3] + \"...\" + stringa[-3:])"
   ]
  },
  {
   "cell_type": "code",
   "execution_count": null,
   "id": "be4223d5-7b4b-42ef-aad4-2303dfee0963",
   "metadata": {
    "tags": []
   },
   "outputs": [],
   "source": [
    "numero = int(input(\"Inserisci un numero intero: \"))\n",
    "fattori = []\n",
    "for i in range(2, numero + 1):\n",
    "    while numero % i == 0:\n",
    "        fattori.append(i)\n",
    "        numero //= i\n",
    "print(\"I fattori del numero sono:\", fattori)"
   ]
  },
  {
   "cell_type": "code",
   "execution_count": null,
   "id": "ae0c4baf-4939-4569-b386-3ce3db58ee27",
   "metadata": {},
   "outputs": [],
   "source": []
  }
 ],
 "metadata": {
  "kernelspec": {
   "display_name": "Python 3 (ipykernel)",
   "language": "python",
   "name": "python3"
  },
  "language_info": {
   "codemirror_mode": {
    "name": "ipython",
    "version": 3
   },
   "file_extension": ".py",
   "mimetype": "text/x-python",
   "name": "python",
   "nbconvert_exporter": "python",
   "pygments_lexer": "ipython3",
   "version": "3.11.5"
  }
 },
 "nbformat": 4,
 "nbformat_minor": 5
}
