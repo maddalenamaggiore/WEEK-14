{
 "cells": [
  {
   "cell_type": "code",
   "execution_count": 4,
   "id": "65759b22-669b-4d45-8587-778fcf061789",
   "metadata": {
    "tags": []
   },
   "outputs": [
    {
     "name": "stdout",
     "output_type": "stream",
     "text": [
      "E\n",
      "p\n",
      "i\n",
      "c\n",
      "o\n",
      "d\n",
      "e\n"
     ]
    }
   ],
   "source": [
    "nome_scuola = \"Epicode\"\n",
    "for carattere in nome_scuola:\n",
    "    print(carattere)"
   ]
  },
  {
   "cell_type": "code",
   "execution_count": 5,
   "id": "4ed80d5a-358e-4e98-91b8-188c4e3b1214",
   "metadata": {
    "tags": []
   },
   "outputs": [
    {
     "name": "stdout",
     "output_type": "stream",
     "text": [
      "2^0 = 1\n",
      "2^1 = 2\n",
      "2^2 = 4\n",
      "2^3 = 8\n",
      "2^4 = 16\n",
      "2^5 = 32\n",
      "2^6 = 64\n",
      "2^7 = 128\n",
      "2^8 = 256\n",
      "2^9 = 512\n"
     ]
    }
   ],
   "source": [
    "for esponente in range(10):\n",
    "    potenza = 2 ** esponente\n",
    "    print(f\"2^{esponente} = {potenza}\")"
   ]
  },
  {
   "cell_type": "code",
   "execution_count": 7,
   "id": "f486d1bc-6b2b-490c-ba0b-72c23b68506c",
   "metadata": {
    "tags": []
   },
   "outputs": [
    {
     "name": "stdin",
     "output_type": "stream",
     "text": [
      "Inserisci il valore di K:  10\n",
      "Inserisci il numero di potenze da calcolare:  5\n"
     ]
    },
    {
     "name": "stdout",
     "output_type": "stream",
     "text": [
      "Le prime 5 potenze di 10 sono: [1, 10, 100, 1000, 10000]\n"
     ]
    }
   ],
   "source": [
    "K = int(input(\"Inserisci il valore di K: \"))\n",
    "N = int(input(\"Inserisci il numero di potenze da calcolare: \"))\n",
    "\n",
    "potenze = []\n",
    "esponente = 0\n",
    "\n",
    "while len(potenze) < N:\n",
    "    potenza = K ** esponente\n",
    "    potenze.append(potenza)\n",
    "    esponente += 1\n",
    "\n",
    "print(\"Le prime\", N, \"potenze di\", K, \"sono:\", potenze)"
   ]
  },
  {
   "cell_type": "code",
   "execution_count": 10,
   "id": "510c51f8-d76d-40cd-8e96-f1e496d3f37a",
   "metadata": {
    "tags": []
   },
   "outputs": [
    {
     "name": "stdin",
     "output_type": "stream",
     "text": [
      "Inserisci il valore di K:  10\n",
      "Inserisci il numero di potenze da calcolare:  5\n"
     ]
    },
    {
     "name": "stdout",
     "output_type": "stream",
     "text": [
      "Le prime 5 potenze di 10 sono: [1, 10, 100, 1000, 10000]\n"
     ]
    }
   ],
   "source": [
    "K = int(input(\"Inserisci il valore di K: \"))\n",
    "N = int(input(\"Inserisci il numero di potenze da calcolare: \"))\n",
    "\n",
    "potenze = []\n",
    "\n",
    "for esponente in range(N):\n",
    "    potenza = K ** esponente\n",
    "    potenze.append(potenza)\n",
    "\n",
    "print(\"Le prime\", N, \"potenze di\", K, \"sono:\", potenze)"
   ]
  },
  {
   "cell_type": "code",
   "execution_count": 11,
   "id": "8a137d51-52aa-42c6-82f6-52ea4722667f",
   "metadata": {
    "tags": []
   },
   "outputs": [
    {
     "name": "stdout",
     "output_type": "stream",
     "text": [
      "La media dei guadagni degli ultimi 12 mesi è: 70.0\n"
     ]
    }
   ],
   "source": [
    "guadagni = [100, 90, 70, 40, 50, 80, 90, 120, 80, 20, 50, 50]\n",
    "\n",
    "somma = 0\n",
    "\n",
    "for guadagno in guadagni:\n",
    "    somma += guadagno\n",
    "\n",
    "media = somma / len(guadagni)\n",
    "\n",
    "print(\"La media dei guadagni degli ultimi 12 mesi è:\", media)\n"
   ]
  },
  {
   "cell_type": "code",
   "execution_count": 12,
   "id": "2b2eec06-a6ea-4e74-a77d-8df4bdcbb522",
   "metadata": {
    "tags": []
   },
   "outputs": [
    {
     "name": "stdout",
     "output_type": "stream",
     "text": [
      "Nella parola 'Albergo' la lettera 'e' appare 1 volte.\n",
      "Nella parola 'Sedia' la lettera 'e' appare 1 volte.\n",
      "Nella parola 'Borgo' la lettera 'e' appare 0 volte.\n",
      "Nella parola 'Petalo' la lettera 'e' appare 1 volte.\n",
      "Nella parola 'Eremo' la lettera 'e' appare 2 volte.\n",
      "Nella parola 'Belvedere' la lettera 'e' appare 4 volte.\n",
      "Nella parola 'Semestre' la lettera 'e' appare 3 volte.\n",
      "Nella parola 'Esteta' la lettera 'e' appare 2 volte.\n",
      "Nella parola 'Sosta' la lettera 'e' appare 0 volte.\n",
      "Nella parola 'Orpello' la lettera 'e' appare 1 volte.\n",
      "Nella parola 'Abete' la lettera 'e' appare 2 volte.\n",
      "Nella parola 'Orologio' la lettera 'e' appare 0 volte.\n",
      "Nella parola 'Cesta' la lettera 'e' appare 1 volte.\n",
      "Nella parola 'Ermellino' la lettera 'e' appare 2 volte.\n"
     ]
    }
   ],
   "source": [
    "parole = [\"Albergo\", \"Sedia\", \"Borgo\", \"Petalo\", \"Eremo\", \"Belvedere\", \"Semestre\", \"Esteta\", \"Sosta\", \"Orpello\", \"Abete\", \"Orologio\", \"Cesta\", \"Ermellino\"]\n",
    "\n",
    "for parola in parole:\n",
    "    conteggio_e = parola.count(\"e\") + parola.count(\"E\")\n",
    "    print(f\"Nella parola '{parola}' la lettera 'e' appare {conteggio_e} volte.\")"
   ]
  },
  {
   "cell_type": "code",
   "execution_count": 14,
   "id": "223b353f-5ee3-4e43-8e51-9af4e09b07f0",
   "metadata": {
    "tags": []
   },
   "outputs": [
    {
     "name": "stdout",
     "output_type": "stream",
     "text": [
      "Codici fiscali che contengono '95': ['ABCDEF95G01A123B', 'STUVWX95Z04A654E', 'DEFGHI95J06A987G']\n"
     ]
    }
   ],
   "source": [
    "lista_cf = [\"ABCDEF95G01A123B\", \"GHIJKL91M02A321C\", \"MNOPQR89S03A456D\", \"STUVWX95Z04A654E\", \"XYZABC01D05A789F\", \"DEFGHI95J06A987G\"]\n",
    "\n",
    "cf_con_95 = [cf for cf in lista_cf if \"95\" in cf]\n",
    "\n",
    "print(\"Codici fiscali che contengono '95':\", cf_con_95)"
   ]
  },
  {
   "cell_type": "code",
   "execution_count": 17,
   "id": "497dd2b9-2e59-4fc1-b900-488220ec46d9",
   "metadata": {
    "tags": []
   },
   "outputs": [
    {
     "name": "stdout",
     "output_type": "stream",
     "text": [
      "Nome: ABC\n",
      "Cognome: DEF\n",
      "Nome: STU\n",
      "Cognome: VWX\n",
      "Nome: DEF\n",
      "Cognome: GHI\n"
     ]
    }
   ],
   "source": [
    "for cf in cf_con_95:\n",
    "    nome=cf[:3]\n",
    "    cognome=cf[3:6]\n",
    "    \n",
    "    print(\"Nome:\", nome)\n",
    "    print(\"Cognome:\", cognome)"
   ]
  },
  {
   "cell_type": "code",
   "execution_count": 18,
   "id": "abf719ab-6202-4c52-aab5-ae266120f0fd",
   "metadata": {
    "tags": []
   },
   "outputs": [
    {
     "name": "stdout",
     "output_type": "stream",
     "text": [
      "Alex\n",
      "Faith\n"
     ]
    }
   ],
   "source": [
    "studenti = [\"Alex\", \"Bob\", \"Cindy\", \"Dan\", \"Emma\", \"Faith\", \"Grace\", \"Henry\"]\n",
    "corsi = [\"Cybersecurity\", \"Data Analyst\", \"Backend\", \"Frontend\", \"Data Analyst\", \"Backend\", \"Frontend\", \"Cybersecurity\"]\n",
    "edizioni = [1, 2, 3, 2, 2, 1, 3, 3]\n",
    "\n",
    "for studente, edizione in zip(studenti, edizioni):\n",
    "    if edizione == 1:\n",
    "        print(studente)"
   ]
  },
  {
   "cell_type": "code",
   "execution_count": 21,
   "id": "002861d7-6794-4e3f-bede-5b50cae8059a",
   "metadata": {
    "tags": []
   },
   "outputs": [
    {
     "name": "stdout",
     "output_type": "stream",
     "text": [
      "['100 $', '200 $', '500 $', '10 $', '50 $', '70 $']\n"
     ]
    }
   ],
   "source": [
    "prezzi = [\"100 €\", \"200 €\", \"500 €\", \"10 €\", \"50 €\", \"70 €\"]\n",
    "\n",
    "dollari = [prezzo.replace(\"€\", \"$\") for prezzo in prezzi]\n",
    "\n",
    "print(dollari)"
   ]
  },
  {
   "cell_type": "code",
   "execution_count": 22,
   "id": "4f2a3999-a651-4367-b565-72d4abedaafc",
   "metadata": {
    "tags": []
   },
   "outputs": [
    {
     "name": "stdout",
     "output_type": "stream",
     "text": [
      "Squadra Pari: ['Alex', 'Cindy', 'Emma', 'Grace', 'Isabelle']\n",
      "Squadra Dispari: ['Bob', 'Dan', 'Faith', 'Henry', 'John']\n"
     ]
    }
   ],
   "source": [
    "studenti = [\"Alex\", \"Bob\", \"Cindy\", \"Dan\", \"Emma\", \"Faith\", \"Grace\", \"Henry\", \"Isabelle\", \"John\"]\n",
    "squadra_1=[]\n",
    "squadra_2=[]\n",
    "\n",
    "for indice, studente in enumerate(studenti):\n",
    "    if indice % 2 == 0:\n",
    "        squadra_1.append(studente)\n",
    "    else:\n",
    "        squadra_2.append(studente)\n",
    "\n",
    "print(\"Squadra Pari:\", squadra_1)\n",
    "print(\"Squadra Dispari:\", squadra_2)"
   ]
  },
  {
   "cell_type": "code",
   "execution_count": 1,
   "id": "c6709ba9-3d4d-446d-972e-0aa0367b309f",
   "metadata": {},
   "outputs": [
    {
     "name": "stdout",
     "output_type": "stream",
     "text": [
      "Mese 1: 100 € (media prec: 0 € - il guadagno attuale è maggiore)\n",
      "Mese 2: 90 € (media prec: 100.0 € - il guadagno attuale è minore)\n",
      "Mese 3: 70 € (media prec: 95.0 € - il guadagno attuale è minore)\n",
      "Mese 4: 40 € (media prec: 86.66666666666667 € - il guadagno attuale è minore)\n",
      "Mese 5: 50 € (media prec: 75.0 € - il guadagno attuale è minore)\n",
      "Mese 6: 80 € (media prec: 70.0 € - il guadagno attuale è maggiore)\n",
      "Mese 7: 90 € (media prec: 71.66666666666667 € - il guadagno attuale è maggiore)\n",
      "Mese 8: 120 € (media prec: 74.28571428571429 € - il guadagno attuale è maggiore)\n",
      "Mese 9: 80 € (media prec: 80.0 € - il guadagno attuale è uguale)\n",
      "Mese 10: 20 € (media prec: 80.0 € - il guadagno attuale è minore)\n",
      "Mese 11: 50 € (media prec: 74.0 € - il guadagno attuale è minore)\n",
      "Mese 12: 50 € (media prec: 71.81818181818181 € - il guadagno attuale è minore)\n"
     ]
    }
   ],
   "source": [
    "guadagni = [100, 90, 70, 40, 50, 80, 90, 120, 80, 20, 50, 50]\n",
    "\n",
    "for indice, guadagno in enumerate(guadagni):\n",
    "    guadagni_precedenti = guadagni[:indice]\n",
    "    media_precedenti = sum(guadagni_precedenti) / len(guadagni_precedenti) if guadagni_precedenti else 0\n",
    "    \n",
    "    confronto = \"maggiore\" if guadagno > media_precedenti else \"minore\" if guadagno < media_precedenti else \"uguale\"\n",
    "    \n",
    "    print(f\"Mese {indice+1}: {guadagno} € (media prec: {media_precedenti} € - il guadagno attuale è {confronto})\")\n"
   ]
  },
  {
   "cell_type": "code",
   "execution_count": null,
   "id": "5aec920a-b7a7-48a9-832b-04553cceeee6",
   "metadata": {},
   "outputs": [],
   "source": []
  }
 ],
 "metadata": {
  "kernelspec": {
   "display_name": "Python 3 (ipykernel)",
   "language": "python",
   "name": "python3"
  },
  "language_info": {
   "codemirror_mode": {
    "name": "ipython",
    "version": 3
   },
   "file_extension": ".py",
   "mimetype": "text/x-python",
   "name": "python",
   "nbconvert_exporter": "python",
   "pygments_lexer": "ipython3",
   "version": "3.11.5"
  }
 },
 "nbformat": 4,
 "nbformat_minor": 5
}
